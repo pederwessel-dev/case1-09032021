{
 "cells": [
  {
   "cell_type": "markdown",
   "id": "excessive-motel",
   "metadata": {},
   "source": [
    "# Case interview - Wind Forecast Denmark"
   ]
  },
  {
   "cell_type": "code",
   "execution_count": null,
   "id": "little-expert",
   "metadata": {},
   "outputs": [],
   "source": [
    "import pandas as pd\n",
    "import os\n",
    "import matplotlib.pyplot as plt\n",
    "\n",
    "plt.rcParams[\"figure.figsize\"]=15,10"
   ]
  },
  {
   "cell_type": "markdown",
   "id": "assured-testament",
   "metadata": {},
   "source": [
    "# Task "
   ]
  },
  {
   "cell_type": "markdown",
   "id": "living-discount",
   "metadata": {},
   "source": [
    "Make a wind model for wind power production in one or both of the two price zones in Denmark (DK1 and DK2) based on the wind and temperature data given in the file WindData.csv (Attached). The file WindData.csv contains actual production for the two Danish price zones, forecasted wind speed (WND) and wind direction (DD) from several points in Denmark. Your task is to make a model based on the historical data."
   ]
  },
  {
   "cell_type": "markdown",
   "id": "disciplinary-engineering",
   "metadata": {},
   "source": [
    "#### Import the data"
   ]
  },
  {
   "cell_type": "code",
   "execution_count": null,
   "id": "solid-dragon",
   "metadata": {},
   "outputs": [],
   "source": [
    "base_dir = os.path.dirname(os.getcwd())\n",
    "filename = os.path.join(base_dir,\"data\",\"WindData.csv\")"
   ]
  },
  {
   "cell_type": "code",
   "execution_count": null,
   "id": "surprised-emission",
   "metadata": {},
   "outputs": [],
   "source": [
    "df = pd.read_csv(filename)"
   ]
  },
  {
   "cell_type": "code",
   "execution_count": null,
   "id": "bizarre-diving",
   "metadata": {},
   "outputs": [],
   "source": [
    "df.head()"
   ]
  },
  {
   "cell_type": "markdown",
   "id": "distributed-ideal",
   "metadata": {},
   "source": [
    "#### Adjusting the index"
   ]
  },
  {
   "cell_type": "code",
   "execution_count": null,
   "id": "traditional-vietnam",
   "metadata": {},
   "outputs": [],
   "source": [
    "df[\"Date\"] = pd.to_datetime(df[\"Date\"], format = \"%d/%m/%Y %H:%M\")\n",
    "df = df.set_index(\"Date\").sort_index()"
   ]
  },
  {
   "cell_type": "markdown",
   "id": "addressed-child",
   "metadata": {},
   "source": [
    "#### Checking the columns"
   ]
  },
  {
   "cell_type": "code",
   "execution_count": null,
   "id": "determined-major",
   "metadata": {},
   "outputs": [],
   "source": [
    "for i, col in enumerate(df.columns):\n",
    "    print(i+1, col)"
   ]
  },
  {
   "cell_type": "markdown",
   "id": "final-seller",
   "metadata": {},
   "source": [
    "#### Grouping the columns by category"
   ]
  },
  {
   "cell_type": "code",
   "execution_count": null,
   "id": "passing-walker",
   "metadata": {},
   "outputs": [],
   "source": [
    "col_actual_prod = df.groupby(by = lambda x: \"Wind Production\" in x, axis=1).groups[True]\n",
    "col_wind_speed = df.groupby(by = lambda x: \"WND\" in x, axis=1).groups[True]\n",
    "col_wind_dir = df.groupby(by = lambda x: \"DD\" in x, axis=1).groups[True]"
   ]
  },
  {
   "cell_type": "code",
   "execution_count": null,
   "id": "neutral-marshall",
   "metadata": {},
   "outputs": [],
   "source": [
    "df[col_wind_dir].head()"
   ]
  },
  {
   "cell_type": "code",
   "execution_count": null,
   "id": "collect-institution",
   "metadata": {},
   "outputs": [],
   "source": [
    "df[col_wind_dir].tail()"
   ]
  },
  {
   "cell_type": "markdown",
   "id": "precious-essex",
   "metadata": {},
   "source": [
    "### Statistics for actual production"
   ]
  },
  {
   "cell_type": "code",
   "execution_count": null,
   "id": "apparent-strain",
   "metadata": {},
   "outputs": [],
   "source": [
    "df[col_actual_prod].describe()"
   ]
  },
  {
   "cell_type": "code",
   "execution_count": null,
   "id": "numerous-tyler",
   "metadata": {},
   "outputs": [],
   "source": [
    "df[col_actual_prod].corr()"
   ]
  },
  {
   "cell_type": "code",
   "execution_count": null,
   "id": "composite-voluntary",
   "metadata": {},
   "outputs": [],
   "source": [
    "plt.figure()\n",
    "ax = df[col_actual_prod].plot(linewidth=1.2)\n",
    "ax.plot(df[col_actual_prod].mean(1), linestyle = \"--\", linewidth = 1, color = \"r\")"
   ]
  },
  {
   "cell_type": "markdown",
   "id": "logical-insulation",
   "metadata": {},
   "source": [
    "### Statistics for wind speed"
   ]
  },
  {
   "cell_type": "code",
   "execution_count": null,
   "id": "covered-responsibility",
   "metadata": {},
   "outputs": [],
   "source": [
    "df[col_wind_speed].describe()"
   ]
  },
  {
   "cell_type": "code",
   "execution_count": null,
   "id": "religious-natural",
   "metadata": {},
   "outputs": [],
   "source": [
    "df[col_wind_speed].corr()"
   ]
  },
  {
   "cell_type": "code",
   "execution_count": null,
   "id": "practical-compact",
   "metadata": {},
   "outputs": [],
   "source": [
    "plt.figure()\n",
    "ax = df[col_wind_speed].plot(linewidth=1.2)\n",
    "ax.plot(df[col_wind_speed].mean(1), linestyle = \"--\", linewidth = 0.1, color = \"r\")"
   ]
  },
  {
   "cell_type": "markdown",
   "id": "modern-machinery",
   "metadata": {},
   "source": [
    "### Statistics for wind direction"
   ]
  },
  {
   "cell_type": "code",
   "execution_count": null,
   "id": "round-chance",
   "metadata": {},
   "outputs": [],
   "source": [
    "df[col_wind_dir].describe()"
   ]
  },
  {
   "cell_type": "code",
   "execution_count": null,
   "id": "decent-collector",
   "metadata": {},
   "outputs": [],
   "source": [
    "df[col_wind_dir].corr()"
   ]
  },
  {
   "cell_type": "code",
   "execution_count": null,
   "id": "still-clark",
   "metadata": {},
   "outputs": [],
   "source": [
    "plt.figure()\n",
    "ax = df[col_wind_dir].plot(linewidth=1.2)\n",
    "ax.plot(df[col_wind_dir].mean(1), linestyle = \"--\", linewidth = 0.1, color = \"r\")"
   ]
  },
  {
   "cell_type": "code",
   "execution_count": null,
   "id": "recognized-attendance",
   "metadata": {},
   "outputs": [],
   "source": []
  }
 ],
 "metadata": {
  "kernelspec": {
   "display_name": "local-venv",
   "language": "python",
   "name": "local-venv"
  },
  "language_info": {
   "codemirror_mode": {
    "name": "ipython",
    "version": 3
   },
   "file_extension": ".py",
   "mimetype": "text/x-python",
   "name": "python",
   "nbconvert_exporter": "python",
   "pygments_lexer": "ipython3",
   "version": "3.8.8"
  }
 },
 "nbformat": 4,
 "nbformat_minor": 5
}
