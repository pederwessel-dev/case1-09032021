{
 "cells": [
  {
   "cell_type": "markdown",
   "id": "excessive-motel",
   "metadata": {},
   "source": [
    "# Interview case - Wind Forecast Denmark"
   ]
  },
  {
   "cell_type": "code",
   "execution_count": null,
   "id": "little-expert",
   "metadata": {},
   "outputs": [],
   "source": [
    "import pandas as pd\n",
    "import os\n",
    "import matplotlib.pyplot as plt\n",
    "from sklearn import svm, metrics\n",
    "import numpy as np\n",
    "plt.rcParams[\"figure.figsize\"]=15,10"
   ]
  },
  {
   "cell_type": "markdown",
   "id": "assured-testament",
   "metadata": {},
   "source": [
    "# Task "
   ]
  },
  {
   "cell_type": "markdown",
   "id": "living-discount",
   "metadata": {},
   "source": [
    "Make a wind model for wind power production in one or both of the two price zones in Denmark (DK1 and DK2) based on the wind and temperature data given in the file WindData.csv (Attached). The file WindData.csv contains actual production for the two Danish price zones, forecasted wind speed (WND) and wind direction (DD) from several points in Denmark. Your task is to make a model based on the historical data."
   ]
  },
  {
   "cell_type": "markdown",
   "id": "disciplinary-engineering",
   "metadata": {},
   "source": [
    "#### Import the data"
   ]
  },
  {
   "cell_type": "code",
   "execution_count": null,
   "id": "solid-dragon",
   "metadata": {},
   "outputs": [],
   "source": [
    "base_dir = os.path.dirname(os.getcwd())\n",
    "filename = os.path.join(base_dir,\"data\",\"WindData.csv\")"
   ]
  },
  {
   "cell_type": "code",
   "execution_count": null,
   "id": "surprised-emission",
   "metadata": {},
   "outputs": [],
   "source": [
    "df = pd.read_csv(filename)"
   ]
  },
  {
   "cell_type": "code",
   "execution_count": null,
   "id": "bizarre-diving",
   "metadata": {},
   "outputs": [],
   "source": [
    "df.head()"
   ]
  },
  {
   "cell_type": "markdown",
   "id": "distributed-ideal",
   "metadata": {},
   "source": [
    "#### Adjusting the index"
   ]
  },
  {
   "cell_type": "code",
   "execution_count": null,
   "id": "traditional-vietnam",
   "metadata": {},
   "outputs": [],
   "source": [
    "df[\"Date\"] = pd.to_datetime(df[\"Date\"], format = \"%d/%m/%Y %H:%M\")\n",
    "df = df.set_index(\"Date\").sort_index().astype(float) #Preparing the dataset by "
   ]
  },
  {
   "cell_type": "code",
   "execution_count": null,
   "id": "recognized-attendance",
   "metadata": {},
   "outputs": [],
   "source": [
    "col_actual_prod = df.groupby(by = lambda x: \"Wind Production\" in x, axis=1).groups[True]\n",
    "col_wind_speed = df.groupby(by = lambda x: \"WND\" in x, axis=1).groups[True]\n",
    "col_wind_dir = df.groupby(by = lambda x: \"DD\" in x, axis=1).groups[True]"
   ]
  },
  {
   "cell_type": "markdown",
   "id": "ancient-gothic",
   "metadata": {},
   "source": [
    "### Adjusting the variables"
   ]
  },
  {
   "cell_type": "code",
   "execution_count": null,
   "id": "hazardous-colleague",
   "metadata": {},
   "outputs": [],
   "source": [
    "X = df[col_wind_speed[:-2].union(col_wind_dir[:-2], sort=False)].to_numpy()"
   ]
  },
  {
   "cell_type": "code",
   "execution_count": null,
   "id": "announced-anthony",
   "metadata": {},
   "outputs": [],
   "source": [
    "rows = np.arange(X.shape[0])\n",
    "size_test = int(1.5*X.shape[0]) \n",
    "#The factor 1.5 is added in order achieve 80/20-distribution between the training and test set."
   ]
  },
  {
   "cell_type": "code",
   "execution_count": null,
   "id": "arctic-credit",
   "metadata": {},
   "outputs": [],
   "source": [
    "rng = np.random.default_rng(5)\n",
    "index_training = np.unique(rng.choice(rows, size = size_test))\n",
    "index_test = np.delete(rows, index_training, 0)\n",
    "ratio = len(index_training)/X.shape[0]\n",
    "\n",
    "print(f\"The ratio of row distribution between the datasets for training and test is {ratio:.2%}.\")"
   ]
  },
  {
   "cell_type": "code",
   "execution_count": null,
   "id": "aging-brain",
   "metadata": {},
   "outputs": [],
   "source": [
    "X_training = X[list(index_training)]\n",
    "X_test = X[list(index_test)]"
   ]
  },
  {
   "cell_type": "code",
   "execution_count": null,
   "id": "failing-latex",
   "metadata": {},
   "outputs": [],
   "source": [
    "y_dk1 = df[col_actual_prod[0]].to_numpy()\n",
    "y_dk2 = df[col_actual_prod[1]].to_numpy()"
   ]
  },
  {
   "cell_type": "markdown",
   "id": "honest-argentina",
   "metadata": {},
   "source": [
    "# Wind Power Production model to DK1"
   ]
  },
  {
   "cell_type": "code",
   "execution_count": null,
   "id": "hollow-recording",
   "metadata": {},
   "outputs": [],
   "source": [
    "regr_dk1 = svm.SVR(kernel = \"linear\")\n",
    "regr_dk1.fit(X[index_training],y_dk1[index_training])"
   ]
  },
  {
   "cell_type": "code",
   "execution_count": null,
   "id": "modified-right",
   "metadata": {},
   "outputs": [],
   "source": [
    "y_pred_dk1 = regr_dk1.predict(X[index_test])"
   ]
  },
  {
   "cell_type": "code",
   "execution_count": null,
   "id": "employed-telling",
   "metadata": {},
   "outputs": [],
   "source": [
    "\"The R2 squared value for the Wind Power Production Model for the price zone is DK1 {:.2f}\".format(metrics.r2_score(y_dk1[index_test], y_pred_dk1))"
   ]
  },
  {
   "cell_type": "code",
   "execution_count": null,
   "id": "covered-verse",
   "metadata": {},
   "outputs": [],
   "source": [
    "plt.figure()\n",
    "plt.title(r\"Wind Power Production for to DK1 \\n \")\n",
    "plt.plot(y_pred_dk1, label = \"Predicted production\")\n",
    "plt.plot(y_dk1[index_test], label = \"Actual production\")\n",
    "plt.legend()"
   ]
  },
  {
   "cell_type": "code",
   "execution_count": null,
   "id": "legitimate-compensation",
   "metadata": {},
   "outputs": [],
   "source": [
    "regr_dk1.get_params()"
   ]
  },
  {
   "cell_type": "markdown",
   "id": "practical-kruger",
   "metadata": {},
   "source": [
    "# Wind Power Production model of DK2"
   ]
  },
  {
   "cell_type": "code",
   "execution_count": null,
   "id": "acting-crime",
   "metadata": {},
   "outputs": [],
   "source": [
    "regr_dk2 = svm.SVR(kernel = \"linear\")\n",
    "regr_dk2.fit(X[index_training],y_dk2[index_training])"
   ]
  },
  {
   "cell_type": "code",
   "execution_count": null,
   "id": "automatic-cuisine",
   "metadata": {},
   "outputs": [],
   "source": [
    "y_pred_dk2 = regr_dk2.predict(X[index_test])"
   ]
  },
  {
   "cell_type": "code",
   "execution_count": null,
   "id": "capable-korean",
   "metadata": {},
   "outputs": [],
   "source": [
    "\"The R2 squared value for the Wind Power Production Model for the price zone is DK2 {:.2f}\".format(metrics.r2_score(y_dk2[index_test], y_pred_dk2))"
   ]
  },
  {
   "cell_type": "code",
   "execution_count": null,
   "id": "burning-columbus",
   "metadata": {
    "scrolled": false
   },
   "outputs": [],
   "source": [
    "plt.figure()\n",
    "plt.plot(y_pred_dk2, label = \"Predicted production\")\n",
    "plt.plot(y_dk2[index_test], label = \"Actual production\")\n",
    "plt.legend()"
   ]
  },
  {
   "cell_type": "code",
   "execution_count": null,
   "id": "divine-rates",
   "metadata": {},
   "outputs": [],
   "source": [
    "regr_dk2.get_params()"
   ]
  },
  {
   "cell_type": "code",
   "execution_count": null,
   "id": "surprising-edition",
   "metadata": {},
   "outputs": [],
   "source": []
  }
 ],
 "metadata": {
  "kernelspec": {
   "display_name": "local-venv",
   "language": "python",
   "name": "local-venv"
  },
  "language_info": {
   "codemirror_mode": {
    "name": "ipython",
    "version": 3
   },
   "file_extension": ".py",
   "mimetype": "text/x-python",
   "name": "python",
   "nbconvert_exporter": "python",
   "pygments_lexer": "ipython3",
   "version": "3.8.8"
  }
 },
 "nbformat": 4,
 "nbformat_minor": 5
}
